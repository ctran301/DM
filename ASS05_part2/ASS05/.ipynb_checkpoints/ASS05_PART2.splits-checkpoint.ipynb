{
 "cells": [
  {
   "cell_type": "code",
   "execution_count": 24,
   "metadata": {},
   "outputs": [],
   "source": [
    "from chefboost import Chefboost as chef\n",
    "from sklearn.compose import make_column_transformer\n",
    "from sklearn.naive_bayes import MultinomialNB\n",
    "from sklearn.preprocessing import OneHotEncoder\n",
    "from sklearn.naive_bayes import MultinomialNB\n",
    "from sklearn.linear_model import LogisticRegression\n",
    "from sklearn.model_selection import train_test_split\n",
    "from sklearn.metrics import confusion_matrix\n",
    "from matplotlib import pyplot as plt\n",
    "import numpy as np \n",
    "import pandas as pd "
   ]
  },
  {
   "cell_type": "code",
   "execution_count": 31,
   "metadata": {},
   "outputs": [
    {
     "name": "stdout",
     "output_type": "stream",
     "text": [
      "(1460, 6)\n"
     ]
    },
    {
     "data": {
      "text/html": [
       "<div>\n",
       "<style scoped>\n",
       "    .dataframe tbody tr th:only-of-type {\n",
       "        vertical-align: middle;\n",
       "    }\n",
       "\n",
       "    .dataframe tbody tr th {\n",
       "        vertical-align: top;\n",
       "    }\n",
       "\n",
       "    .dataframe thead th {\n",
       "        text-align: right;\n",
       "    }\n",
       "</style>\n",
       "<table border=\"1\" class=\"dataframe\">\n",
       "  <thead>\n",
       "    <tr style=\"text-align: right;\">\n",
       "      <th></th>\n",
       "      <th>LotArea</th>\n",
       "      <th>TotalBsmtSF</th>\n",
       "      <th>GarageCars</th>\n",
       "      <th>SalePrice</th>\n",
       "      <th>AGE</th>\n",
       "      <th>TotalArea</th>\n",
       "    </tr>\n",
       "  </thead>\n",
       "  <tbody>\n",
       "    <tr>\n",
       "      <td>0</td>\n",
       "      <td>12108</td>\n",
       "      <td>1440</td>\n",
       "      <td>0</td>\n",
       "      <td>118000</td>\n",
       "      <td>53</td>\n",
       "      <td>1440</td>\n",
       "    </tr>\n",
       "    <tr>\n",
       "      <td>1</td>\n",
       "      <td>9400</td>\n",
       "      <td>945</td>\n",
       "      <td>0</td>\n",
       "      <td>127500</td>\n",
       "      <td>31</td>\n",
       "      <td>980</td>\n",
       "    </tr>\n",
       "    <tr>\n",
       "      <td>2</td>\n",
       "      <td>1680</td>\n",
       "      <td>672</td>\n",
       "      <td>0</td>\n",
       "      <td>91500</td>\n",
       "      <td>35</td>\n",
       "      <td>1218</td>\n",
       "    </tr>\n",
       "    <tr>\n",
       "      <td>3</td>\n",
       "      <td>8430</td>\n",
       "      <td>1040</td>\n",
       "      <td>0</td>\n",
       "      <td>124000</td>\n",
       "      <td>31</td>\n",
       "      <td>1040</td>\n",
       "    </tr>\n",
       "    <tr>\n",
       "      <td>4</td>\n",
       "      <td>7500</td>\n",
       "      <td>1080</td>\n",
       "      <td>0</td>\n",
       "      <td>141000</td>\n",
       "      <td>4</td>\n",
       "      <td>1080</td>\n",
       "    </tr>\n",
       "  </tbody>\n",
       "</table>\n",
       "</div>"
      ],
      "text/plain": [
       "   LotArea  TotalBsmtSF  GarageCars  SalePrice  AGE  TotalArea\n",
       "0    12108         1440           0     118000   53       1440\n",
       "1     9400          945           0     127500   31        980\n",
       "2     1680          672           0      91500   35       1218\n",
       "3     8430         1040           0     124000   31       1040\n",
       "4     7500         1080           0     141000    4       1080"
      ]
     },
     "execution_count": 31,
     "metadata": {},
     "output_type": "execute_result"
    }
   ],
   "source": [
    "load_prices = 'ASS05_DATA.csv'\n",
    "\n",
    "housing_data = pd.read_csv(load_prices)\n",
    "print(housing_data.shape)\n",
    "housing_data.head()\n",
    "\n"
   ]
  },
  {
   "cell_type": "code",
   "execution_count": 38,
   "metadata": {},
   "outputs": [
    {
     "data": {
      "image/png": "[encoded data removed]",
      "text/plain": [
       "<Figure size 432x288 with 1 Axes>"
      ]
     },
     "metadata": {
      "needs_background": "light"
     },
     "output_type": "display_data"
    }
   ],
   "source": [
    "#LotArea vs Sale Price\n",
    "plt.scatter(housing_data['LotArea'], housing_data['SalePrice'])\n",
    "plt.show()"
   ]
  },
  {
   "cell_type": "code",
   "execution_count": 39,
   "metadata": {},
   "outputs": [
    {
     "data": {
      "image/png": "[encoded data removed]",
      "text/plain": [
       "<Figure size 432x288 with 1 Axes>"
      ]
     },
     "metadata": {
      "needs_background": "light"
     },
     "output_type": "display_data"
    }
   ],
   "source": [
    "#Total Area vs Sale Price\n",
    "\n",
    "plt.scatter(housing_data['TotalArea'], housing_data['SalePrice'])\n",
    "plt.show()"
   ]
  },
  {
   "cell_type": "code",
   "execution_count": 87,
   "metadata": {},
   "outputs": [],
   "source": [
    "x=np.array(housing_data['TotalArea'])\n",
    "y=np.array(housing_data['SalePrice'])"
   ]
  },
  {
   "cell_type": "code",
   "execution_count": 88,
   "metadata": {},
   "outputs": [],
   "source": [
    "\n",
    "x= x.reshape(-1,1)\n",
    "y= y.reshape(-1,1)\n",
    "\n",
    "\n",
    "X_train, X_test, y_train, y_test = train_test_split(x ,y , test_size=0.30)\n"
   ]
  },
  {
   "cell_type": "code",
   "execution_count": null,
   "metadata": {},
   "outputs": [],
   "source": []
  },
  {
   "cell_type": "code",
   "execution_count": 64,
   "metadata": {},
   "outputs": [
    {
     "name": "stdout",
     "output_type": "stream",
     "text": [
      "1378    2727\n",
      "1311    1458\n",
      "622     1775\n",
      "1022    1165\n",
      "742      902\n",
      "        ... \n",
      "1173     480\n",
      "276     1145\n",
      "629     1362\n",
      "472     1674\n",
      "268     1072\n",
      "Name: TotalArea, Length: 1022, dtype: int64 900     1656\n",
      "942     1302\n",
      "697      779\n",
      "1246    1056\n",
      "1063    1425\n",
      "        ... \n",
      "946      960\n",
      "101     1212\n",
      "1260    1008\n",
      "682     1086\n",
      "763     1229\n",
      "Name: TotalArea, Length: 438, dtype: int64\n"
     ]
    }
   ],
   "source": [
    "print(X_train, X_test)"
   ]
  },
  {
   "cell_type": "code",
   "execution_count": 89,
   "metadata": {},
   "outputs": [
    {
     "data": {
      "text/plain": [
       "LinearRegression(copy_X=True, fit_intercept=True, n_jobs=None, normalize=False)"
      ]
     },
     "execution_count": 89,
     "metadata": {},
     "output_type": "execute_result"
    }
   ],
   "source": [
    "from sklearn.linear_model import LinearRegression\n",
    "clf = LinearRegression()\n",
    "clf.fit(X_train, y_train)"
   ]
  },
  {
   "cell_type": "code",
   "execution_count": 91,
   "metadata": {},
   "outputs": [
    {
     "data": {
      "text/plain": [
       "array([[107638.11341141],\n",
       "       [138461.51283581],\n",
       "       [151313.67231312],\n",
       "       [108291.61304585],\n",
       "       [203811.47627977],\n",
       "       [128767.93492496],\n",
       "       [121034.85591742],\n",
       "       [186929.40239008],\n",
       "       [249556.45069055],\n",
       "       [142818.17706541],\n",
       "       [200761.81131905],\n",
       "       [223852.13173592],\n",
       "       [198365.64599278],\n",
       "       [142164.67743097],\n",
       "       [133995.93200047],\n",
       "       [170482.99492335],\n",
       "       [179414.15659403],\n",
       "       [232347.62698364],\n",
       "       [202831.22682811],\n",
       "       [140857.67816209],\n",
       "       [159373.50113788],\n",
       "       [207514.64087493],\n",
       "       [266656.35779172],\n",
       "       [177344.74108497],\n",
       "       [217534.968603  ],\n",
       "       [266220.69136876],\n",
       "       [302489.92108016],\n",
       "       [165690.6642708 ],\n",
       "       [134322.68181769],\n",
       "       [226139.38045646],\n",
       "       [163947.99857896],\n",
       "       [141184.42797931],\n",
       "       [191068.2334082 ],\n",
       "       [108727.27946881],\n",
       "       [135194.01466361],\n",
       "       [158937.83471492],\n",
       "       [177780.40750793],\n",
       "       [170482.99492335],\n",
       "       [194117.89836892],\n",
       "       [158502.16829196],\n",
       "       [270686.27220409],\n",
       "       [159809.16756084],\n",
       "       [237575.62405915],\n",
       "       [162532.08270434],\n",
       "       [188018.56844748],\n",
       "       [199672.64526166],\n",
       "       [218841.96787188],\n",
       "       [177671.49090219],\n",
       "       [154581.17048532],\n",
       "       [141293.34458505],\n",
       "       [220148.96714076],\n",
       "       [318936.32854689],\n",
       "       [197058.6467239 ],\n",
       "       [109054.02928603],\n",
       "       [110796.69497787],\n",
       "       [188236.40165896],\n",
       "       [195969.4806665 ],\n",
       "       [233110.04322382],\n",
       "       [218406.30144892],\n",
       "       [110143.19534343],\n",
       "       [157630.83544604],\n",
       "       [206425.47481753],\n",
       "       [283538.43168141],\n",
       "       [ 83785.37675436],\n",
       "       [215574.46969969],\n",
       "       [212198.05492175],\n",
       "       [190414.73377376],\n",
       "       [199019.14562722],\n",
       "       [149244.25680406],\n",
       "       [107420.28019993],\n",
       "       [178869.57356533],\n",
       "       [107964.86322863],\n",
       "       [176582.32484479],\n",
       "       [210999.97225861],\n",
       "       [297044.09079316],\n",
       "       [245090.86985521],\n",
       "       [192484.14928282],\n",
       "       [124302.35408962],\n",
       "       [114826.60939024],\n",
       "       [115153.35920746],\n",
       "       [204138.22609699],\n",
       "       [124302.35408962],\n",
       "       [150006.67304424],\n",
       "       [138679.34604729],\n",
       "       [150551.25607294],\n",
       "       [162205.33288712],\n",
       "       [172661.32703815],\n",
       "       [134976.18145213],\n",
       "       [178107.15732515],\n",
       "       [102083.36651867],\n",
       "       [177998.24071941],\n",
       "       [117985.1909567 ],\n",
       "       [ 82587.29409122],\n",
       "       [141511.17779653],\n",
       "       [219386.55090058],\n",
       "       [204900.64233717],\n",
       "       [180612.23925717],\n",
       "       [128659.01831922],\n",
       "       [222327.29925556],\n",
       "       [135629.68108657],\n",
       "       [129966.0175881 ],\n",
       "       [180721.15586291],\n",
       "       [232456.54358938],\n",
       "       [191394.98322542],\n",
       "       [178107.15732515],\n",
       "       [193791.1485517 ],\n",
       "       [179414.15659403],\n",
       "       [411733.27663731],\n",
       "       [106548.94735401],\n",
       "       [109054.02928603],\n",
       "       [131708.68327994],\n",
       "       [ 98053.45210629],\n",
       "       [174948.57575869],\n",
       "       [114064.19315007],\n",
       "       [165581.74766506],\n",
       "       [122559.68839778],\n",
       "       [147392.67450649],\n",
       "       [148590.75716963],\n",
       "       [249120.78426759],\n",
       "       [138679.34604729],\n",
       "       [263171.02640804],\n",
       "       [184533.2370638 ],\n",
       "       [116024.69205338],\n",
       "       [225703.7140335 ],\n",
       "       [185949.15293842],\n",
       "       [174077.24291277],\n",
       "       [204900.64233717],\n",
       "       [172007.82740371],\n",
       "       [197603.2297526 ],\n",
       "       [133451.34897177],\n",
       "       [182245.98834327],\n",
       "       [163947.99857896],\n",
       "       [133451.34897177],\n",
       "       [163076.66573304],\n",
       "       [202940.14343385],\n",
       "       [131273.01685698],\n",
       "       [129530.35116514],\n",
       "       [140422.01173913],\n",
       "       [137590.17998989],\n",
       "       [104152.78202773],\n",
       "       [103390.36578755],\n",
       "       [143362.76009411],\n",
       "       [209910.80620121],\n",
       "       [180176.57283421],\n",
       "       [165690.6642708 ],\n",
       "       [247269.20197001],\n",
       "       [130728.43382828],\n",
       "       [110469.94516065],\n",
       "       [216990.38557431],\n",
       "       [111341.27800657],\n",
       "       [101429.86688423],\n",
       "       [147392.67450649],\n",
       "       [160898.33361824],\n",
       "       [163621.24876174],\n",
       "       [217534.968603  ],\n",
       "       [196622.98030094],\n",
       "       [132144.34970289],\n",
       "       [231149.5443205 ],\n",
       "       [134976.18145213],\n",
       "       [141729.01100801],\n",
       "       [165146.0812421 ],\n",
       "       [105568.69790235],\n",
       "       [332333.0710529 ],\n",
       "       [152838.50479348],\n",
       "       [169393.82886595],\n",
       "       [211871.30510453],\n",
       "       [154145.50406236],\n",
       "       [127787.6854733 ],\n",
       "       [110796.69497787],\n",
       "       [135629.68108657],\n",
       "       [193246.565523  ],\n",
       "       [226683.96348516],\n",
       "       [216990.38557431],\n",
       "       [163730.16536748],\n",
       "       [201197.47774201],\n",
       "       [133995.93200047],\n",
       "       [159809.16756084],\n",
       "       [166561.99711671],\n",
       "       [216663.63575709],\n",
       "       [168413.57941429],\n",
       "       [212742.63795045],\n",
       "       [186166.9861499 ],\n",
       "       [112757.19388119],\n",
       "       [189216.65111062],\n",
       "       [176909.07466201],\n",
       "       [ 85310.20923472],\n",
       "       [141293.34458505],\n",
       "       [210019.72280695],\n",
       "       [171572.16098075],\n",
       "       [128441.18510774],\n",
       "       [129966.0175881 ],\n",
       "       [ 96092.95320298],\n",
       "       [124302.35408962],\n",
       "       [203811.47627977],\n",
       "       [141946.84421949],\n",
       "       [120381.35628298],\n",
       "       [197603.2297526 ],\n",
       "       [184315.40385232],\n",
       "       [124193.43748388],\n",
       "       [111994.77764101],\n",
       "       [114064.19315007],\n",
       "       [212306.97152749],\n",
       "       [159373.50113788],\n",
       "       [123431.0212437 ],\n",
       "       [182790.57137197],\n",
       "       [224069.9649474 ],\n",
       "       [245090.86985521],\n",
       "       [212742.63795045],\n",
       "       [175275.32557591],\n",
       "       [212198.05492175],\n",
       "       [116024.69205338],\n",
       "       [117331.69132226],\n",
       "       [177453.65769071],\n",
       "       [159809.16756084],\n",
       "       [204682.80912569],\n",
       "       [214049.63721933],\n",
       "       [203593.64306829],\n",
       "       [167106.58014541],\n",
       "       [135629.68108657],\n",
       "       [220257.8837465 ],\n",
       "       [258814.36217844],\n",
       "       [140530.92834487],\n",
       "       [201850.97737645],\n",
       "       [150442.3394672 ],\n",
       "       [187365.06881304],\n",
       "       [158502.16829196],\n",
       "       [161225.08343546],\n",
       "       [171572.16098075],\n",
       "       [146957.00808353],\n",
       "       [161334.0000412 ],\n",
       "       [149353.1734098 ],\n",
       "       [229951.46165736],\n",
       "       [187038.31899582],\n",
       "       [242803.62113467],\n",
       "       [224832.38118758],\n",
       "       [195315.98103206],\n",
       "       [164819.33142488],\n",
       "       [205554.14197161],\n",
       "       [170374.07831761],\n",
       "       [154363.33727384],\n",
       "       [114064.19315007],\n",
       "       [204029.30949125],\n",
       "       [149026.42359258],\n",
       "       [195315.98103206],\n",
       "       [137916.92980711],\n",
       "       [175275.32557591],\n",
       "       [105568.69790235],\n",
       "       [230604.9612918 ],\n",
       "       [158720.00150344],\n",
       "       [232674.37680086],\n",
       "       [205445.22536587],\n",
       "       [143689.50991133],\n",
       "       [110143.19534343],\n",
       "       [187909.65184174],\n",
       "       [173532.65988407],\n",
       "       [110796.69497787],\n",
       "       [185295.65330398],\n",
       "       [215356.63648821],\n",
       "       [197929.97956982],\n",
       "       [119945.68986002],\n",
       "       [279944.18369199],\n",
       "       [211435.63868157],\n",
       "       [397138.45146816],\n",
       "       [307282.25173271],\n",
       "       [303579.08713755],\n",
       "       [158502.16829196],\n",
       "       [135629.68108657],\n",
       "       [215574.46969969],\n",
       "       [229515.7952344 ],\n",
       "       [191503.89983116],\n",
       "       [197929.97956982],\n",
       "       [173750.49309555],\n",
       "       [200652.89471331],\n",
       "       [191177.15001394],\n",
       "       [120381.35628298],\n",
       "       [212306.97152749],\n",
       "       [146303.50844909],\n",
       "       [170700.82813483],\n",
       "       [157630.83544604],\n",
       "       [244328.45361503],\n",
       "       [126045.01978146],\n",
       "       [114935.52599598],\n",
       "       [246833.53554705],\n",
       "       [109707.52892047],\n",
       "       [147828.34092945],\n",
       "       [118529.7739854 ],\n",
       "       [151313.67231312],\n",
       "       [209584.05638399],\n",
       "       [204029.30949125],\n",
       "       [116133.60865912],\n",
       "       [219059.80108336],\n",
       "       [114717.69278451],\n",
       "       [319916.57799855],\n",
       "       [151204.75570738],\n",
       "       [215356.63648821],\n",
       "       [188780.98468766],\n",
       "       [244328.45361503],\n",
       "       [129312.51795366],\n",
       "       [120163.5230715 ],\n",
       "       [189434.4843221 ],\n",
       "       [178324.99053663],\n",
       "       [243239.28755763],\n",
       "       [184533.2370638 ],\n",
       "       [203593.64306829],\n",
       "       [112757.19388119],\n",
       "       [ 95112.70375132],\n",
       "       [199890.47847314],\n",
       "       [176800.15805627],\n",
       "       [243674.95398059],\n",
       "       [123431.0212437 ],\n",
       "       [228426.629177  ],\n",
       "       [185295.65330398],\n",
       "       [213069.38776767],\n",
       "       [194880.3146091 ],\n",
       "       [131381.93346272],\n",
       "       [277874.76818293],\n",
       "       [142382.51064245],\n",
       "       [165363.91445358],\n",
       "       [126480.68620442],\n",
       "       [194771.39800336],\n",
       "       [206534.39142327],\n",
       "       [113846.35993859],\n",
       "       [152947.42139922],\n",
       "       [217970.63502596],\n",
       "       [243674.95398059],\n",
       "       [224505.63137036],\n",
       "       [117331.69132226],\n",
       "       [119945.68986002],\n",
       "       [212198.05492175],\n",
       "       [133015.68254881],\n",
       "       [250754.53335369],\n",
       "       [116024.69205338],\n",
       "       [184097.57064084],\n",
       "       [175275.32557591],\n",
       "       [215356.63648821],\n",
       "       [118856.52380262],\n",
       "       [243457.12076911],\n",
       "       [150006.67304424],\n",
       "       [140639.84495061],\n",
       "       [244655.20343225],\n",
       "       [231585.21074346],\n",
       "       [173750.49309555],\n",
       "       [175275.32557591],\n",
       "       [155997.08635994],\n",
       "       [330372.57214958],\n",
       "       [194662.48139762],\n",
       "       [313708.33147137],\n",
       "       [236704.29121323],\n",
       "       [129966.0175881 ],\n",
       "       [186493.73596712],\n",
       "       [ 98598.03513499],\n",
       "       [217317.13539153],\n",
       "       [260665.94447602],\n",
       "       [165254.99784784],\n",
       "       [196078.39727224],\n",
       "       [217534.968603  ],\n",
       "       [312401.33220249],\n",
       "       [179849.82301699],\n",
       "       [166779.83032819],\n",
       "       [121252.6891289 ],\n",
       "       [100340.70082683],\n",
       "       [199128.06223296],\n",
       "       [157630.83544604],\n",
       "       [218188.46823744],\n",
       "       [168195.74620281],\n",
       "       [109054.02928603],\n",
       "       [176800.15805627],\n",
       "       [137372.34677841],\n",
       "       [172334.57722093],\n",
       "       [114064.19315007],\n",
       "       [193137.64891726],\n",
       "       [148264.00735241],\n",
       "       [139223.92907599],\n",
       "       [251625.8661996 ],\n",
       "       [157304.08562882],\n",
       "       [247704.86839297],\n",
       "       [105568.69790235],\n",
       "       [203702.55967403],\n",
       "       [173641.57648981],\n",
       "       [230278.21147458],\n",
       "       [172443.49382667],\n",
       "       [183226.23779492],\n",
       "       [233545.70964678],\n",
       "       [149679.92322702],\n",
       "       [235397.29194435],\n",
       "       [119510.02343706],\n",
       "       [161334.0000412 ],\n",
       "       [ 73329.38260333],\n",
       "       [210455.38922991],\n",
       "       [168631.41262577],\n",
       "       [172552.41043241],\n",
       "       [287023.76306508],\n",
       "       [146957.00808353],\n",
       "       [260012.44484158],\n",
       "       [152838.50479348],\n",
       "       [121034.85591742],\n",
       "       [188454.23487044],\n",
       "       [137699.09659563],\n",
       "       [134322.68181769],\n",
       "       [249338.61747907],\n",
       "       [153056.33800496],\n",
       "       [183988.6540351 ],\n",
       "       [105568.69790235],\n",
       "       [142164.67743097],\n",
       "       [199563.72865592],\n",
       "       [189652.31753358],\n",
       "       [203375.80985681],\n",
       "       [305757.41925235],\n",
       "       [108727.27946881],\n",
       "       [248358.36802741],\n",
       "       [195751.64745502],\n",
       "       [159264.58453214],\n",
       "       [192701.9824943 ],\n",
       "       [145214.34239169],\n",
       "       [243021.45434615],\n",
       "       [170700.82813483],\n",
       "       [147719.42432371],\n",
       "       [174186.15951851],\n",
       "       [227446.37972534],\n",
       "       [178324.99053663],\n",
       "       [162423.1660986 ],\n",
       "       [149353.1734098 ],\n",
       "       [172443.49382667],\n",
       "       [131490.85006846],\n",
       "       [181483.57210309],\n",
       "       [229080.12881144],\n",
       "       [236704.29121323],\n",
       "       [105568.69790235],\n",
       "       [177780.40750793],\n",
       "       [170918.66134631],\n",
       "       [165690.6642708 ],\n",
       "       [222436.2158613 ],\n",
       "       [226683.96348516],\n",
       "       [196514.0636952 ],\n",
       "       [114064.19315007],\n",
       "       [123431.0212437 ],\n",
       "       [143580.59330559],\n",
       "       [177780.40750793]])"
      ]
     },
     "execution_count": 91,
     "metadata": {},
     "output_type": "execute_result"
    }
   ],
   "source": [
    "clf.predict(X_test)"
   ]
  },
  {
   "cell_type": "code",
   "execution_count": 127,
   "metadata": {},
   "outputs": [],
   "source": [
    "y_pred=clf.predict(X_test)"
   ]
  },
  {
   "cell_type": "code",
   "execution_count": 136,
   "metadata": {},
   "outputs": [
    {
     "name": "stdout",
     "output_type": "stream",
     "text": [
      "R-squared Error\n"
     ]
    },
    {
     "data": {
      "text/plain": [
       "0.5248638105761436"
      ]
     },
     "execution_count": 136,
     "metadata": {},
     "output_type": "execute_result"
    }
   ],
   "source": [
    "print ('R-squared Error')\n",
    "clf.score(X_train, y_train)"
   ]
  },
  {
   "cell_type": "code",
   "execution_count": 135,
   "metadata": {},
   "outputs": [
    {
     "name": "stdout",
     "output_type": "stream",
     "text": [
      "Mean Squared Error = \n"
     ]
    },
    {
     "data": {
      "text/plain": [
       "39082465251.23544"
      ]
     },
     "execution_count": 135,
     "metadata": {},
     "output_type": "execute_result"
    }
   ],
   "source": [
    "from sklearn.metrics import mean_squared_error as mse\n",
    "from sklearn.metrics import r2_score\n",
    "\n",
    "y_true = y_test\n",
    "print(\"Mean Squared Error = \")\n",
    "mse(X_train, y_train)\n"
   ]
  },
  {
   "cell_type": "code",
   "execution_count": 114,
   "metadata": {},
   "outputs": [
    {
     "name": "stdout",
     "output_type": "stream",
     "text": [
      "Adjusted R-squared Score = \n"
     ]
    },
    {
     "data": {
      "text/plain": [
       "0.48969602964806647"
      ]
     },
     "execution_count": 114,
     "metadata": {},
     "output_type": "execute_result"
    }
   ],
   "source": [
    "print('Adjusted R-squared Score = ')\n",
    "\n",
    "r2_score(y_test, y_pred)"
   ]
  },
  {
   "cell_type": "code",
   "execution_count": 134,
   "metadata": {},
   "outputs": [
    {
     "name": "stdout",
     "output_type": "stream",
     "text": [
      "Average Squared Error = \n"
     ]
    },
    {
     "data": {
      "text/plain": [
       "2612429851.125841"
      ]
     },
     "execution_count": 134,
     "metadata": {},
     "output_type": "execute_result"
    }
   ],
   "source": [
    "print(\"Average Squared Error = \")\n",
    "mse(y_true, y_pred)"
   ]
  },
  {
   "cell_type": "code",
   "execution_count": null,
   "metadata": {},
   "outputs": [],
   "source": []
  },
  {
   "cell_type": "code",
   "execution_count": null,
   "metadata": {},
   "outputs": [],
   "source": []
  },
  {
   "cell_type": "code",
   "execution_count": null,
   "metadata": {},
   "outputs": [],
   "source": []
  }
 ],
 "metadata": {
  "kernelspec": {
   "display_name": "Python 3",
   "language": "python",
   "name": "python3"
  },
  "language_info": {
   "codemirror_mode": {
    "name": "ipython",
    "version": 3
   },
   "file_extension": ".py",
   "mimetype": "text/x-python",
   "name": "python",
   "nbconvert_exporter": "python",
   "pygments_lexer": "ipython3",
   "version": "3.7.4"
  }
 },
 "nbformat": 4,
 "nbformat_minor": 2
}
