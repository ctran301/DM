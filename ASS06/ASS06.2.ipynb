{
 "cells": [
  {
   "cell_type": "code",
   "execution_count": 98,
   "metadata": {},
   "outputs": [
    {
     "name": "stdout",
     "output_type": "stream",
     "text": [
      "<class 'pandas.core.frame.DataFrame'>\n",
      "RangeIndex: 1460 entries, 0 to 1459\n",
      "Data columns (total 7 columns):\n",
      " #   Column       Non-Null Count  Dtype\n",
      "---  ------       --------------  -----\n",
      " 0   ID           1460 non-null   int64\n",
      " 1   LotArea      1460 non-null   int64\n",
      " 2   TotalBsmtSF  1460 non-null   int64\n",
      " 3   GarageCars   1460 non-null   int64\n",
      " 4   AGE          1460 non-null   int64\n",
      " 5   TotalArea    1460 non-null   int64\n",
      " 6   SalePrice    1460 non-null   int64\n",
      "dtypes: int64(7)\n",
      "memory usage: 80.0 KB\n"
     ]
    }
   ],
   "source": [
    "import pandas as pd\n",
    "import numpy as np\n",
    "from sklearn.model_selection import train_test_split\n",
    "from sklearn.tree import DecisionTreeClassifier\n",
    "import sklearn as sk\n",
    "import scipy as sp\n",
    "# File to Load (Remember to Change These)\n",
    "file_to_load = \"ASS06_DATA.csv\"\n",
    "\n",
    "# Read Purchasing File and store into Pandas data frame\n",
    "house_data = pd.read_csv(file_to_load)\n",
    "house_data.info()"
   ]
  },
  {
   "cell_type": "code",
   "execution_count": 99,
   "metadata": {},
   "outputs": [],
   "source": [
    "from sklearn.model_selection import train_test_split\n",
    "x= house_data[['LotArea','TotalBsmtSF','GarageCars','AGE','TotalArea']].values\n",
    "y = house_data[['SalePrice']].values\n",
    "# house_train,house_test=train_test_split(house_data, train_size=0.1)\n",
    "X_train, X_test, y_train, y_test = train_test_split(x, y, test_size=0.1, random_state=0)"
   ]
  },
  {
   "cell_type": "code",
   "execution_count": 100,
   "metadata": {},
   "outputs": [
    {
     "data": {
      "text/plain": [
       "LinearRegression(copy_X=True, fit_intercept=True, n_jobs=None, normalize=False)"
      ]
     },
     "execution_count": 100,
     "metadata": {},
     "output_type": "execute_result"
    }
   ],
   "source": [
    "from sklearn.linear_model import LinearRegression\n",
    "lr = LinearRegression()\n",
    "lr.fit(X_train,y_train)"
   ]
  },
  {
   "cell_type": "code",
   "execution_count": 101,
   "metadata": {},
   "outputs": [
    {
     "data": {
      "text/plain": [
       "array([[212641.26309684],\n",
       "       [231119.08435325],\n",
       "       [217658.22959131],\n",
       "       [162481.0983191 ],\n",
       "       [270982.8133857 ],\n",
       "       [182244.62152317],\n",
       "       [146020.05483365],\n",
       "       [466324.65865696],\n",
       "       [147540.37474477],\n",
       "       [132032.12306229],\n",
       "       [197046.1457706 ],\n",
       "       [111737.54592414],\n",
       "       [154193.01864883],\n",
       "       [106036.1934074 ],\n",
       "       [227184.4131756 ],\n",
       "       [255238.1175833 ],\n",
       "       [186052.72657976],\n",
       "       [301265.24079495],\n",
       "       [ 56924.70806509],\n",
       "       [226647.59897535],\n",
       "       [267214.12265517],\n",
       "       [292015.59792779],\n",
       "       [ 96254.0383349 ],\n",
       "       [191834.4862314 ],\n",
       "       [202303.24631252],\n",
       "       [138279.93312104],\n",
       "       [145859.90458821],\n",
       "       [219920.27187195],\n",
       "       [134758.32224565],\n",
       "       [164888.67819069],\n",
       "       [206340.33194929],\n",
       "       [217398.72708135],\n",
       "       [187430.17106831],\n",
       "       [133532.79140459],\n",
       "       [356112.67041218],\n",
       "       [215226.06496278],\n",
       "       [110905.00586932],\n",
       "       [111970.46821725],\n",
       "       [158416.10799319],\n",
       "       [114118.84186913],\n",
       "       [195276.48375587],\n",
       "       [ 81234.7023487 ],\n",
       "       [211904.11841986],\n",
       "       [120529.4166838 ],\n",
       "       [187614.26614889],\n",
       "       [210021.55348828],\n",
       "       [241390.02287152],\n",
       "       [200028.34515104],\n",
       "       [134709.02370885],\n",
       "       [148577.20882179],\n",
       "       [192888.19160169],\n",
       "       [184862.21985206],\n",
       "       [149467.16459873],\n",
       "       [177026.02752865],\n",
       "       [199869.41416269],\n",
       "       [111585.43706997],\n",
       "       [142534.5066656 ],\n",
       "       [181168.48691013],\n",
       "       [262475.17434948],\n",
       "       [301318.98672344],\n",
       "       [220479.2694435 ],\n",
       "       [107645.33937552],\n",
       "       [236579.45273888],\n",
       "       [129476.34690273],\n",
       "       [268225.7373003 ],\n",
       "       [118190.20986473],\n",
       "       [145463.42770491],\n",
       "       [138906.8641714 ],\n",
       "       [102346.82379689],\n",
       "       [217154.41363732],\n",
       "       [150501.32869454],\n",
       "       [  8178.58376934],\n",
       "       [261657.93551304],\n",
       "       [159929.44449115],\n",
       "       [125621.9967574 ],\n",
       "       [164655.57251709],\n",
       "       [122821.31451565],\n",
       "       [295311.29312377],\n",
       "       [209069.31970886],\n",
       "       [277758.69444079],\n",
       "       [147532.35264689],\n",
       "       [216156.73272556],\n",
       "       [209242.74554026],\n",
       "       [108358.9014153 ],\n",
       "       [ 60825.45712498],\n",
       "       [217961.52693305],\n",
       "       [183172.83471385],\n",
       "       [178992.266783  ],\n",
       "       [192126.00017512],\n",
       "       [200473.07659562],\n",
       "       [229794.50748988],\n",
       "       [384347.54343477],\n",
       "       [122828.97315007],\n",
       "       [ 96653.1009947 ],\n",
       "       [247124.75614983],\n",
       "       [ 37107.96960569],\n",
       "       [293930.16855739],\n",
       "       [285113.58608792],\n",
       "       [114990.66827743],\n",
       "       [217692.83663288],\n",
       "       [278955.84575199],\n",
       "       [236898.52969976],\n",
       "       [253943.34974848],\n",
       "       [108725.97074891],\n",
       "       [182086.49419979],\n",
       "       [333630.67281546],\n",
       "       [100014.7144856 ],\n",
       "       [166562.90505033],\n",
       "       [165577.55224417],\n",
       "       [190514.37742015],\n",
       "       [254054.59250609],\n",
       "       [208772.84351027],\n",
       "       [265370.11904597],\n",
       "       [294705.81734962],\n",
       "       [124966.77960044],\n",
       "       [182394.68069648],\n",
       "       [200941.28381924],\n",
       "       [143446.45150575],\n",
       "       [183237.54119897],\n",
       "       [231408.22596813],\n",
       "       [310222.86850958],\n",
       "       [141552.89949642],\n",
       "       [220211.19606055],\n",
       "       [104294.56929013],\n",
       "       [169200.35531168],\n",
       "       [274949.04979322],\n",
       "       [161191.69541343],\n",
       "       [149894.42117505],\n",
       "       [187665.16538692],\n",
       "       [150458.390796  ],\n",
       "       [220576.03776569],\n",
       "       [114362.81734523],\n",
       "       [240287.05408757],\n",
       "       [ 64764.36296157],\n",
       "       [149790.13839829],\n",
       "       [219223.25618271],\n",
       "       [153109.18025841],\n",
       "       [145107.18244731],\n",
       "       [208729.51407529],\n",
       "       [124465.4927951 ],\n",
       "       [181753.21833889],\n",
       "       [139380.19345267],\n",
       "       [257052.63710511],\n",
       "       [153984.66326906],\n",
       "       [297832.50345532],\n",
       "       [213386.23443565]])"
      ]
     },
     "execution_count": 101,
     "metadata": {},
     "output_type": "execute_result"
    }
   ],
   "source": [
    "y_pred=lr.predict(X_test)\n",
    "y_pred\n"
   ]
  },
  {
   "cell_type": "code",
   "execution_count": 102,
   "metadata": {
    "scrolled": true
   },
   "outputs": [
    {
     "data": {
      "text/plain": [
       "2218217552.2029963"
      ]
     },
     "execution_count": 102,
     "metadata": {},
     "output_type": "execute_result"
    }
   ],
   "source": [
    "from sklearn.metrics import mean_squared_error\n",
    "\n",
    "###error in linear regression model ###\n",
    "mean_squared_error(y_test,y_pred, sample_weight=None, multioutput='uniform_average')"
   ]
  },
  {
   "cell_type": "code",
   "execution_count": null,
   "metadata": {},
   "outputs": [],
   "source": []
  },
  {
   "cell_type": "code",
   "execution_count": 109,
   "metadata": {},
   "outputs": [
    {
     "name": "stderr",
     "output_type": "stream",
     "text": [
      "C:\\Users\\Chris\\anaconda3\\lib\\site-packages\\ipykernel_launcher.py:8: FutureWarning: Using a non-tuple sequence for multidimensional indexing is deprecated; use `arr[tuple(seq)]` instead of `arr[seq]`. In the future this will be interpreted as an array index, `arr[np.array(seq)]`, which will result either in an error or a different result.\n",
      "  \n"
     ]
    },
    {
     "ename": "IndexError",
     "evalue": "only integers, slices (`:`), ellipsis (`...`), numpy.newaxis (`None`) and integer or boolean arrays are valid indices",
     "output_type": "error",
     "traceback": [
      "\u001b[1;31m---------------------------------------------------------------------------\u001b[0m",
      "\u001b[1;31mIndexError\u001b[0m                                Traceback (most recent call last)",
      "\u001b[1;32m<ipython-input-109-6ad5ddb73ea6>\u001b[0m in \u001b[0;36m<module>\u001b[1;34m\u001b[0m\n\u001b[0;32m      6\u001b[0m \u001b[0mBag\u001b[0m\u001b[1;33m=\u001b[0m\u001b[0mBaggingRegressor\u001b[0m\u001b[1;33m(\u001b[0m\u001b[0mbase_estimator\u001b[0m\u001b[1;33m=\u001b[0m\u001b[0mLinearRegression\u001b[0m\u001b[1;33m(\u001b[0m\u001b[1;33m)\u001b[0m\u001b[1;33m,\u001b[0m \u001b[0mn_estimators\u001b[0m\u001b[1;33m=\u001b[0m\u001b[1;36m20\u001b[0m\u001b[1;33m,\u001b[0m \u001b[0mmax_samples\u001b[0m\u001b[1;33m=\u001b[0m\u001b[1;36m1.0\u001b[0m\u001b[1;33m,\u001b[0m \u001b[0mmax_features\u001b[0m\u001b[1;33m=\u001b[0m\u001b[1;36m1.0\u001b[0m\u001b[1;33m,\u001b[0m \u001b[0mbootstrap\u001b[0m\u001b[1;33m=\u001b[0m\u001b[1;32mTrue\u001b[0m\u001b[1;33m,\u001b[0m \u001b[0mbootstrap_features\u001b[0m\u001b[1;33m=\u001b[0m\u001b[1;32mFalse\u001b[0m\u001b[1;33m,\u001b[0m \u001b[0moob_score\u001b[0m\u001b[1;33m=\u001b[0m\u001b[1;32mFalse\u001b[0m\u001b[1;33m,\u001b[0m \u001b[0mwarm_start\u001b[0m\u001b[1;33m=\u001b[0m\u001b[1;32mFalse\u001b[0m\u001b[1;33m,\u001b[0m \u001b[0mn_jobs\u001b[0m\u001b[1;33m=\u001b[0m\u001b[1;36m1\u001b[0m\u001b[1;33m,\u001b[0m \u001b[0mrandom_state\u001b[0m\u001b[1;33m=\u001b[0m\u001b[1;32mNone\u001b[0m\u001b[1;33m,\u001b[0m \u001b[0mverbose\u001b[0m\u001b[1;33m=\u001b[0m\u001b[1;36m0\u001b[0m\u001b[1;33m)\u001b[0m\u001b[1;33m\u001b[0m\u001b[1;33m\u001b[0m\u001b[0m\n\u001b[0;32m      7\u001b[0m \u001b[0mfeatures\u001b[0m \u001b[1;33m=\u001b[0m \u001b[0mlist\u001b[0m\u001b[1;33m(\u001b[0m\u001b[0mhouse_data\u001b[0m\u001b[1;33m.\u001b[0m\u001b[0mcolumns\u001b[0m\u001b[1;33m[\u001b[0m\u001b[1;33m:\u001b[0m\u001b[1;36m6\u001b[0m\u001b[1;33m]\u001b[0m\u001b[1;33m)\u001b[0m\u001b[1;33m\u001b[0m\u001b[1;33m\u001b[0m\u001b[0m\n\u001b[1;32m----> 8\u001b[1;33m \u001b[0mX\u001b[0m \u001b[1;33m=\u001b[0m \u001b[0mX_train\u001b[0m\u001b[1;33m[\u001b[0m\u001b[0mfeatures\u001b[0m\u001b[1;33m]\u001b[0m\u001b[1;33m\u001b[0m\u001b[1;33m\u001b[0m\u001b[0m\n\u001b[0m\u001b[0;32m      9\u001b[0m \u001b[0my\u001b[0m \u001b[1;33m=\u001b[0m \u001b[0my_train\u001b[0m\u001b[1;33m[\u001b[0m\u001b[1;34m'SalePrice'\u001b[0m\u001b[1;33m]\u001b[0m\u001b[1;33m\u001b[0m\u001b[1;33m\u001b[0m\u001b[0m\n\u001b[0;32m     10\u001b[0m \u001b[0mBag\u001b[0m\u001b[1;33m.\u001b[0m\u001b[0mfit\u001b[0m\u001b[1;33m(\u001b[0m\u001b[0mX\u001b[0m\u001b[1;33m,\u001b[0m\u001b[0my\u001b[0m\u001b[1;33m)\u001b[0m\u001b[1;33m\u001b[0m\u001b[1;33m\u001b[0m\u001b[0m\n",
      "\u001b[1;31mIndexError\u001b[0m: only integers, slices (`:`), ellipsis (`...`), numpy.newaxis (`None`) and integer or boolean arrays are valid indices"
     ]
    }
   ],
   "source": [
    "#Build the regression model using bagging technique. \n",
    "from sklearn.ensemble import BaggingRegressor\n",
    "from sklearn.linear_model import LinearRegression\n",
    "from sklearn.metrics import mean_squared_error\n",
    "\n",
    "Bag=BaggingRegressor(base_estimator=LinearRegression(), n_estimators=20, max_samples=1.0, max_features=1.0, bootstrap=True, bootstrap_features=False, oob_score=False, warm_start=False, n_jobs=1, random_state=None, verbose=0)\n",
    "features = list(house_data.columns[:6])\n",
    "X = X_train[features]\n",
    "y = y_train['SalePrice']\n",
    "Bag.fit(X,y)\n",
    "bagpredict_test=Bag.predict(y_test[features])\n",
    "z=(y_test[['SalePrice']])"
   ]
  },
  {
   "cell_type": "code",
   "execution_count": 107,
   "metadata": {},
   "outputs": [
    {
     "data": {
      "text/plain": [
       "1877044117.3545985"
      ]
     },
     "execution_count": 107,
     "metadata": {},
     "output_type": "execute_result"
    }
   ],
   "source": [
    "### to estimate the accuracy of the Bagging model ###\n",
    "mean_squared_error(z, bagpredict_test, sample_weight=None, multioutput='uniform_average')"
   ]
  },
  {
   "cell_type": "code",
   "execution_count": 105,
   "metadata": {},
   "outputs": [],
   "source": [
    "import matplotlib.pyplot as plt\n",
    "\n",
    "spread = np.random.rand(50) * 100\n",
    "center = np.ones(25) * 50\n",
    "flier_high = np.random.rand(10) * 100 + 100\n",
    "flier_low = np.random.rand(10) * -100\n",
    "data = np.concatenate((spread, center, flier_high, flier_low))"
   ]
  },
  {
   "cell_type": "code",
   "execution_count": null,
   "metadata": {},
   "outputs": [],
   "source": []
  }
 ],
 "metadata": {
  "kernelspec": {
   "display_name": "Python 3",
   "language": "python",
   "name": "python3"
  },
  "language_info": {
   "codemirror_mode": {
    "name": "ipython",
    "version": 3
   },
   "file_extension": ".py",
   "mimetype": "text/x-python",
   "name": "python",
   "nbconvert_exporter": "python",
   "pygments_lexer": "ipython3",
   "version": "3.7.6"
  }
 },
 "nbformat": 4,
 "nbformat_minor": 4
}
